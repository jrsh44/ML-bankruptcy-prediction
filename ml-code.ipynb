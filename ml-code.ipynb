{
 "cells": [
  {
   "cell_type": "markdown",
   "metadata": {},
   "source": [
    "# Company Bankruptcy Prediction\n",
    "\n",
    "### Cel biznesowy\n",
    "Predykcja brankructwa firm na podstawie parametrów ekonomicznych"
   ]
  },
  {
   "cell_type": "code",
   "execution_count": null,
   "metadata": {},
   "outputs": [],
   "source": [
    "import pandas as pd\n",
    "import numpy as np\n",
    "import matplotlib.pyplot as plt\n",
    "import seaborn as sns\n",
    "\n",
    "\n",
    "db_raw = pd.read_csv('./db/data.csv') \n",
    "db_raw.head()\n"
   ]
  },
  {
   "cell_type": "markdown",
   "metadata": {},
   "source": [
    "## EDA\n",
    "\n",
    "Sprawdzenie wartości null w danych kolumnach\n",
    "\n",
    "**Wniosek**: brak wratości null"
   ]
  },
  {
   "cell_type": "code",
   "execution_count": null,
   "metadata": {},
   "outputs": [],
   "source": [
    "db_raw.info()"
   ]
  },
  {
   "cell_type": "markdown",
   "metadata": {},
   "source": [
    "Sprawdzenie ile firm zbankrutowało, a ile nie"
   ]
  },
  {
   "cell_type": "code",
   "execution_count": null,
   "metadata": {},
   "outputs": [],
   "source": [
    "db_raw['Bankrupt?'].value_counts()"
   ]
  },
  {
   "cell_type": "markdown",
   "metadata": {},
   "source": [
    "Sprawdzenie zależności miedzy bankrupctwem a pozostałymi parametrami celem wyszczególenia tych najbardziej istotnych"
   ]
  },
  {
   "cell_type": "code",
   "execution_count": null,
   "metadata": {},
   "outputs": [],
   "source": [
    "# Wykresy punktowe\n",
    "\n",
    "column_values = db_raw.columns.values[:100]\n",
    "for i in range(0, 10, 10):\n",
    "    sns.pairplot(db_raw, y_vars='Bankrupt?', x_vars=column_values[i:i+10], hue='Bankrupt?')\n",
    "plt.show()"
   ]
  },
  {
   "cell_type": "code",
   "execution_count": null,
   "metadata": {},
   "outputs": [],
   "source": [
    "# Heatmap\n",
    "\n",
    "spearman_corr = db_raw.corr('spearman')\n",
    "mask = np.triu(np.ones_like(spearman_corr, dtype=bool))\n",
    "\n",
    "plt.figure(figsize=(25, 20))\n",
    "sns.heatmap(spearman_corr, mask=mask, square=True, linewidths=0.5, cmap='coolwarm')\n",
    "plt.show()"
   ]
  },
  {
   "cell_type": "markdown",
   "metadata": {},
   "source": [
    "Wybór kolumn z najbardziej widocznymi zależnościami do dalszych badań korelacji"
   ]
  },
  {
   "cell_type": "code",
   "execution_count": null,
   "metadata": {},
   "outputs": [],
   "source": [
    "print(spearman_corr['Bankrupt?'].sort_values(ascending=False).head(15))\n",
    "print(spearman_corr['Bankrupt?'].sort_values(ascending=False).tail(30))"
   ]
  },
  {
   "cell_type": "markdown",
   "metadata": {},
   "source": [
    "Wizualizacja kilku ciekawych parametrów za pomocą boxplotów"
   ]
  },
  {
   "cell_type": "code",
   "execution_count": null,
   "metadata": {},
   "outputs": [],
   "source": [
    "plt.subplots(ncols=5, figsize=(25,8))\n",
    "\n",
    "sns.boxplot(x='Bankrupt?', y=\" Persistent EPS in the Last Four Seasons\", data=db_raw, ax=plt.subplot(1, 5, 1))\n",
    "sns.boxplot(x='Bankrupt?', y=\" Net Income to Total Assets\", data=db_raw, ax=plt.subplot(1, 5, 2))\n",
    "sns.boxplot(x='Bankrupt?', y=\" ROA(B) before interest and depreciation after tax\", data=db_raw, ax=plt.subplot(1, 5, 3))\n",
    "sns.boxplot(x='Bankrupt?', y=\" Net Value Per Share (B)\", data=db_raw, ax=plt.subplot(1, 5, 4))\n",
    "sns.boxplot(x='Bankrupt?', y=\" Equity to Long-term Liability\", data=db_raw, ax=plt.subplot(1, 5, 5))"
   ]
  }
 ],
 "metadata": {
  "kernelspec": {
   "display_name": "Python 3",
   "language": "python",
   "name": "python3"
  },
  "language_info": {
   "codemirror_mode": {
    "name": "ipython",
    "version": 3
   },
   "file_extension": ".py",
   "mimetype": "text/x-python",
   "name": "python",
   "nbconvert_exporter": "python",
   "pygments_lexer": "ipython3",
   "version": "3.11.2"
  }
 },
 "nbformat": 4,
 "nbformat_minor": 2
}
