{
 "cells": [
  {
   "cell_type": "markdown",
   "metadata": {},
   "source": [
    "# Company Bankruptcy Prediction\n",
    "\n",
    "### Cel biznesowy\n",
    "Predykcja brankructwa firm na podstawie parametrów ekonomicznych"
   ]
  },
  {
   "cell_type": "code",
   "execution_count": null,
   "metadata": {},
   "outputs": [],
   "source": [
    "import pandas as pd\n",
    "import numpy as np\n",
    "import matplotlib.pyplot as plt\n",
    "import seaborn as sns\n",
    "from sklearn.model_selection import train_test_split\n",
    "from sklearn.preprocessing import MinMaxScaler\n",
    "from sklearn.model_selection import train_test_split\n",
    "from sklearn.linear_model import LogisticRegression\n",
    "from sklearn.metrics import mean_squared_error, r2_score, accuracy_score, precision_score, recall_score, f1_score\n",
    "\n",
    "db_raw = pd.read_csv('./db/data.csv') \n",
    "db_raw.head()"
   ]
  },
  {
   "cell_type": "markdown",
   "metadata": {},
   "source": [
    "## EDA\n",
    "\n",
    "Sprawdzenie wartości null w danych kolumnach\n",
    "\n",
    "**Wniosek**: brak wratości null"
   ]
  },
  {
   "cell_type": "code",
   "execution_count": null,
   "metadata": {},
   "outputs": [],
   "source": [
    "db_raw.describe()"
   ]
  },
  {
   "cell_type": "code",
   "execution_count": null,
   "metadata": {},
   "outputs": [],
   "source": [
    "db_raw.info()"
   ]
  },
  {
   "cell_type": "markdown",
   "metadata": {},
   "source": [
    "Sprawdzenie ile firm zbankrutowało, a ile nie"
   ]
  },
  {
   "cell_type": "code",
   "execution_count": null,
   "metadata": {},
   "outputs": [],
   "source": [
    "db_raw['Bankrupt?'].value_counts()"
   ]
  },
  {
   "cell_type": "markdown",
   "metadata": {},
   "source": [
    "Wyrzucenie ' Net Income Flag' - 0 dla każdego recordu"
   ]
  },
  {
   "cell_type": "code",
   "execution_count": null,
   "metadata": {},
   "outputs": [],
   "source": [
    "db = db_raw.drop([' Net Income Flag'], axis=1)"
   ]
  },
  {
   "cell_type": "markdown",
   "metadata": {},
   "source": [
    "Sprawdzenie zależności miedzy bankrupctwem a pozostałymi parametrami celem wyszczególenia tych najbardziej istotnych"
   ]
  },
  {
   "cell_type": "markdown",
   "metadata": {},
   "source": [
    "Za pomocą boxplot"
   ]
  },
  {
   "cell_type": "code",
   "execution_count": null,
   "metadata": {},
   "outputs": [],
   "source": [
    "for i in range(20):\n",
    "    fig, ax = plt.subplots(figsize=(25,8))\n",
    "    sns.boxplot(x='Bankrupt?', y=db.columns[i], data=db, ax=ax)\n",
    "    ax.set_title(f'Boxplot of {db.columns[i]}')\n",
    "    print(i)\n",
    "    plt.show()"
   ]
  },
  {
   "cell_type": "markdown",
   "metadata": {},
   "source": [
    "oraz za pomocą heatmapy korelacji"
   ]
  },
  {
   "cell_type": "code",
   "execution_count": null,
   "metadata": {},
   "outputs": [],
   "source": [
    "spearman_corr = db.corr('spearman')\n",
    "mask = np.triu(np.ones_like(spearman_corr, dtype=bool))\n",
    "\n",
    "plt.figure(figsize=(25, 20))\n",
    "sns.heatmap(spearman_corr, mask=mask, square=True, linewidths=0.5, cmap='coolwarm')\n",
    "plt.show()"
   ]
  },
  {
   "cell_type": "markdown",
   "metadata": {},
   "source": [
    "Wybór kolumn z najbardziej widocznymi zależnościami do dalszych badań korelacji"
   ]
  },
  {
   "cell_type": "code",
   "execution_count": null,
   "metadata": {},
   "outputs": [],
   "source": [
    "print(spearman_corr['Bankrupt?'].sort_values(ascending=False).head(15))\n",
    "print(spearman_corr['Bankrupt?'].sort_values(ascending=False).tail(30))"
   ]
  },
  {
   "cell_type": "markdown",
   "metadata": {},
   "source": [
    "Wizualizacja kilku ciekawych parametrów za pomocą boxplotów"
   ]
  },
  {
   "cell_type": "code",
   "execution_count": null,
   "metadata": {},
   "outputs": [],
   "source": [
    "plt.subplots(ncols=5, figsize=(25,8))\n",
    "\n",
    "sns.boxplot(x='Bankrupt?', y=\" Persistent EPS in the Last Four Seasons\", data=db, ax=plt.subplot(1, 5, 1))\n",
    "sns.boxplot(x='Bankrupt?', y=\" Net Income to Total Assets\", data=db, ax=plt.subplot(1, 5, 2))\n",
    "sns.boxplot(x='Bankrupt?', y=\" ROA(B) before interest and depreciation after tax\", data=db, ax=plt.subplot(1, 5, 3))\n",
    "sns.boxplot(x='Bankrupt?', y=\" Net Value Per Share (B)\", data=db, ax=plt.subplot(1, 5, 4))\n",
    "sns.boxplot(x='Bankrupt?', y=\" Equity to Long-term Liability\", data=db, ax=plt.subplot(1, 5, 5))"
   ]
  },
  {
   "cell_type": "markdown",
   "metadata": {},
   "source": [
    "Podmiana wybranych wartości odstających na mediany"
   ]
  },
  {
   "cell_type": "code",
   "execution_count": null,
   "metadata": {},
   "outputs": [],
   "source": [
    "min_column_idx = [4, 5, 6, 7, 8, 10, 13, 16, 17, 18, 25, 26, 27, 28, 35, 38, 66, 89]\n",
    "max_column_idx = [9, 13, 19, 21, 22, 23, 30, 34, 34, 34, 34, 34, 36, 36, 37, 40, 44, 58, 58, 60, 65, 65, 66, 69, 73, 75, 76, 79, 85, 85, 92]\n",
    "\n",
    "for col_idx in min_column_idx:\n",
    "    row_idx = db.iloc[:, col_idx].idxmin()\n",
    "    median = db.iloc[:, col_idx].median()\n",
    "    db.at[row_idx, db.columns[col_idx]] = median\n",
    "\n",
    "for col_idx in max_column_idx:\n",
    "    row_idx = db.iloc[:, col_idx].idxmax()\n",
    "    median = db.iloc[:, col_idx].median()\n",
    "    db.at[row_idx, db.columns[col_idx]] = median"
   ]
  },
  {
   "cell_type": "code",
   "execution_count": null,
   "metadata": {},
   "outputs": [],
   "source": [
    "target = db['Bankrupt?']\n",
    "db = db.drop(['Bankrupt?'], axis=1)"
   ]
  },
  {
   "cell_type": "markdown",
   "metadata": {},
   "source": [
    "Normalizacja danych"
   ]
  },
  {
   "cell_type": "code",
   "execution_count": null,
   "metadata": {},
   "outputs": [],
   "source": [
    "scaler = MinMaxScaler()\n",
    "db = pd.DataFrame(scaler.fit_transform(db), columns=db.columns)"
   ]
  },
  {
   "cell_type": "code",
   "execution_count": null,
   "metadata": {},
   "outputs": [],
   "source": [
    "fig, axs = plt.subplots(10, 10, figsize=(25, 25))\n",
    "\n",
    "for i in range(10):\n",
    "    for j in range(10):\n",
    "        column_index = i * 10 + j\n",
    "        if column_index < len(db.columns):\n",
    "            sns.kdeplot(db[db.columns[column_index]], ax=axs[i, j])\n",
    "            axs[i, j].set_title(f'Density plot of {db.columns[column_index]}')\n",
    "\n",
    "plt.tight_layout()\n",
    "plt.show()"
   ]
  },
  {
   "cell_type": "markdown",
   "metadata": {},
   "source": [
    "Zastosowanie logarytmu w celu poprawy rozkładu"
   ]
  },
  {
   "cell_type": "code",
   "execution_count": null,
   "metadata": {},
   "outputs": [],
   "source": [
    "for col in db:\n",
    "    skew = db[col].skew()\n",
    "    if skew > 0.5 or skew < -0.5:\n",
    "        db[col] = np.log1p(db[col])  "
   ]
  },
  {
   "cell_type": "code",
   "execution_count": null,
   "metadata": {},
   "outputs": [],
   "source": [
    "fig, axs = plt.subplots(10, 10, figsize=(25, 25))\n",
    "\n",
    "for i in range(10):\n",
    "    for j in range(10):\n",
    "        column_index = i * 10 + j\n",
    "        if column_index < len(db.columns):\n",
    "            sns.kdeplot(db[db.columns[column_index]], ax=axs[i, j])\n",
    "            axs[i, j].set_title(f'Density plot of {db.columns[column_index]}')\n",
    "\n",
    "plt.tight_layout()\n",
    "plt.show()"
   ]
  },
  {
   "cell_type": "markdown",
   "metadata": {},
   "source": [
    "Podzielenie na zbiór treningowy i walidacyjny do sprawdzenia poprawności założeń\n"
   ]
  },
  {
   "cell_type": "code",
   "execution_count": null,
   "metadata": {},
   "outputs": [],
   "source": [
    "x_temp, x_valid, y_temp, y_valid = train_test_split(db, target, test_size=0.3, stratify = target, random_state = 42)\n",
    "x_train, x_test, y_train, y_test = train_test_split(x_temp, y_temp, test_size=0.3, stratify = y_temp, random_state = 42)"
   ]
  },
  {
   "cell_type": "markdown",
   "metadata": {},
   "source": [
    "Pierwsze testowanie modeli: LogisticRegression"
   ]
  },
  {
   "cell_type": "code",
   "execution_count": null,
   "metadata": {},
   "outputs": [],
   "source": [
    "model = LogisticRegression()\n",
    "model.fit(x_train, y_train)\n",
    "\n",
    "y_pred = model.predict(x_test)\n",
    "\n",
    "mse = mean_squared_error(y_test, y_pred)\n",
    "rmse = np.sqrt(mse)\n",
    "r2 = r2_score(y_test, y_pred)\n",
    "\n",
    "precision_score = precision_score(y_test, y_pred)\n",
    "accuracy_score = accuracy_score(y_test, y_pred)\n",
    "recall_score = recall_score(y_test, y_pred)\n",
    "f1_score = f1_score(y_test, y_pred)\n",
    "\n",
    "print(f'MSE: {mse}')\n",
    "print(f'RMSE: {rmse}')\n",
    "print(f'R^2: {r2}')\n",
    "print(f'accuracy: {accuracy_score}')\n",
    "print(f'precision: {precision_score}')\n",
    "print(f'recall: {recall_score}')\n",
    "print(f'f1: {f1_score}')"
   ]
  }
 ],
 "metadata": {
  "kernelspec": {
   "display_name": "Python 3",
   "language": "python",
   "name": "python3"
  },
  "language_info": {
   "codemirror_mode": {
    "name": "ipython",
    "version": 3
   },
   "file_extension": ".py",
   "mimetype": "text/x-python",
   "name": "python",
   "nbconvert_exporter": "python",
   "pygments_lexer": "ipython3",
   "version": "3.11.2"
  }
 },
 "nbformat": 4,
 "nbformat_minor": 2
}
